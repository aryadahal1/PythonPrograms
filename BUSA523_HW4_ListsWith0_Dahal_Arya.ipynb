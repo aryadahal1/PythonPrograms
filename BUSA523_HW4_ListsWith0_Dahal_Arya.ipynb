{
 "cells": [
  {
   "cell_type": "code",
   "execution_count": 1,
   "id": "0ead0dff",
   "metadata": {},
   "outputs": [
    {
     "name": "stdout",
     "output_type": "stream",
     "text": [
      "Enter the number of lists (1-5): 4\n",
      "Enter the number of elements in each list (1-5): 2\n",
      "Nested List:\n",
      "[0, 0]\n",
      "[0, 0]\n",
      "[0, 0]\n",
      "[0, 0]\n"
     ]
    }
   ],
   "source": [
    "# Function to get valid user input within a specific range\n",
    "def get_user_input(prompt, min_value, max_value):\n",
    "    while True:\n",
    "        try:\n",
    "            user_input = int(input(prompt))\n",
    "            if min_value <= user_input <= max_value:\n",
    "                return user_input\n",
    "            else:\n",
    "                print(f\"Error: Please enter a number between {min_value} and {max_value}.\")\n",
    "        except ValueError:\n",
    "            print(\"Error: Please enter a valid integer.\")\n",
    "\n",
    "# Get user input for x and y\n",
    "x = get_user_input(\"Enter the number of lists (1-5): \", 1, 5)\n",
    "y = get_user_input(\"Enter the number of elements in each list (1-5): \", 1, 5)\n",
    "\n",
    "# Create a nested list filled with zeros\n",
    "nested_list = [[0] * y for _ in range(x)]\n",
    "\n",
    "# Display the nested list\n",
    "print(\"Nested List:\")\n",
    "for row in nested_list:\n",
    "    print(row)\n"
   ]
  },
  {
   "cell_type": "code",
   "execution_count": null,
   "id": "dbf12a4c",
   "metadata": {},
   "outputs": [],
   "source": []
  },
  {
   "cell_type": "code",
   "execution_count": 2,
   "id": "8d76ad9a",
   "metadata": {},
   "outputs": [
    {
     "name": "stdout",
     "output_type": "stream",
     "text": [
      "Enter the number of lists (1-5): 4\n",
      "Enter the number of elements in each list (1-5): 4\n",
      "Nested List:\n",
      "[0, 0, 0, 0]\n",
      "[0, 0, 0, 0]\n",
      "[0, 0, 0, 0]\n",
      "[0, 0, 0, 0]\n"
     ]
    }
   ],
   "source": [
    "# Function to get valid user input within a specific range\n",
    "def get_user_input(prompt, min_value, max_value):\n",
    "    while True:\n",
    "        try:\n",
    "            user_input = int(input(prompt))\n",
    "            if min_value <= user_input <= max_value:\n",
    "                return user_input\n",
    "            else:\n",
    "                print(f\"Error: Please enter a number between {min_value} and {max_value}.\")\n",
    "        except ValueError:\n",
    "            print(\"Error: Please enter a valid integer.\")\n",
    "\n",
    "# Get user input for x and y\n",
    "x = get_user_input(\"Enter the number of lists (1-5): \", 1, 5)\n",
    "y = get_user_input(\"Enter the number of elements in each list (1-5): \", 1, 5)\n",
    "\n",
    "# Create a nested list filled with zeros\n",
    "nested_list = [[0] * y for _ in range(x)]\n",
    "\n",
    "# Display the nested list\n",
    "print(\"Nested List:\")\n",
    "for row in nested_list:\n",
    "    print(row)\n",
    "\n",
    "    "
   ]
  },
  {
   "cell_type": "code",
   "execution_count": 3,
   "id": "e89686d7",
   "metadata": {},
   "outputs": [
    {
     "name": "stdout",
     "output_type": "stream",
     "text": [
      "Enter the number of lists (1-5): 6\n",
      "Error: Please enter a number between 1 and 5.\n",
      "Enter the number of lists (1-5): 3\n",
      "Enter the number of elements in each list (1-5): 4\n",
      "Nested List:\n",
      "[0, 0, 0, 0]\n",
      "[0, 0, 0, 0]\n",
      "[0, 0, 0, 0]\n"
     ]
    }
   ],
   "source": [
    "# Function to get valid user input within a specific range\n",
    "def get_user_input(prompt, min_value, max_value):\n",
    "    while True:\n",
    "        try:\n",
    "            user_input = int(input(prompt))\n",
    "            if min_value <= user_input <= max_value:\n",
    "                return user_input\n",
    "            else:\n",
    "                print(f\"Error: Please enter a number between {min_value} and {max_value}.\")\n",
    "        except ValueError:\n",
    "            print(\"Error: Please enter a valid integer.\")\n",
    "\n",
    "# Get user input for x and y\n",
    "x = get_user_input(\"Enter the number of lists (1-5): \", 1, 5)\n",
    "y = get_user_input(\"Enter the number of elements in each list (1-5): \", 1, 5)\n",
    "\n",
    "# Create a nested list filled with zeros\n",
    "nested_list = [[0] * y for _ in range(x)]\n",
    "\n",
    "# Display the nested list\n",
    "print(\"Nested List:\")\n",
    "for row in nested_list:\n",
    "    print(row)\n",
    "\n",
    "    "
   ]
  },
  {
   "cell_type": "code",
   "execution_count": null,
   "id": "485cdbb6",
   "metadata": {},
   "outputs": [],
   "source": []
  }
 ],
 "metadata": {
  "kernelspec": {
   "display_name": "Python 3 (ipykernel)",
   "language": "python",
   "name": "python3"
  },
  "language_info": {
   "codemirror_mode": {
    "name": "ipython",
    "version": 3
   },
   "file_extension": ".py",
   "mimetype": "text/x-python",
   "name": "python",
   "nbconvert_exporter": "python",
   "pygments_lexer": "ipython3",
   "version": "3.11.5"
  }
 },
 "nbformat": 4,
 "nbformat_minor": 5
}
