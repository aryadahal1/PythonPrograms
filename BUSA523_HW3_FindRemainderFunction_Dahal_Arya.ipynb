{
 "cells": [
  {
   "cell_type": "code",
   "execution_count": 1,
   "id": "85e849d1",
   "metadata": {},
   "outputs": [
    {
     "name": "stdout",
     "output_type": "stream",
     "text": [
      "Inside the Function, the Larger Number is: 10\n",
      "The Remainder of 10 / 5 is 0\n",
      "Outside the Function, the Smaller Number is: 5\n",
      "\n",
      "Inside the Function, the Larger Number is: 18\n",
      "The Remainder of 18 / 9 is 0\n",
      "Outside the Function, the Smaller Number is: 9\n",
      "\n",
      "Inside the Function, Both Numbers are Equal.\n",
      "The Remainder of 5 / 5 is 0\n",
      "Outside the Function, the Smaller Number is: 5\n",
      "\n"
     ]
    }
   ],
   "source": [
    "def FindRemainder(larger, smaller):\n",
    "    remainder = larger % smaller\n",
    "    print(f'The Remainder of {larger} / {smaller} is {remainder}')\n",
    "\n",
    "def FindLarger(arg1, arg2):\n",
    "    if arg1 > arg2:\n",
    "        print(f'Inside the Function, the Larger Number is: {arg1}')\n",
    "        FindRemainder(arg1, arg2)\n",
    "        return arg2\n",
    "    elif arg2 > arg1:\n",
    "        print(f'Inside the Function, the Larger Number is: {arg2}')\n",
    "        FindRemainder(arg2, arg1)\n",
    "        return arg1\n",
    "    else:\n",
    "        print('Inside the Function, Both Numbers are Equal.')\n",
    "        FindRemainder(arg1, arg2)\n",
    "        return arg1  # or return arg2 (since they are equal)\n",
    "\n",
    "# Test cases\n",
    "result1 = FindLarger(5, 10)\n",
    "print(f'Outside the Function, the Smaller Number is: {result1}\\n')\n",
    "\n",
    "result2 = FindLarger(9, 18)\n",
    "print(f'Outside the Function, the Smaller Number is: {result2}\\n')\n",
    "\n",
    "result3 = FindLarger(5, 5)\n",
    "print(f'Outside the Function, the Smaller Number is: {result3}\\n')\n"
   ]
  },
  {
   "cell_type": "code",
   "execution_count": null,
   "id": "692f2d99",
   "metadata": {},
   "outputs": [],
   "source": []
  }
 ],
 "metadata": {
  "kernelspec": {
   "display_name": "Python 3 (ipykernel)",
   "language": "python",
   "name": "python3"
  },
  "language_info": {
   "codemirror_mode": {
    "name": "ipython",
    "version": 3
   },
   "file_extension": ".py",
   "mimetype": "text/x-python",
   "name": "python",
   "nbconvert_exporter": "python",
   "pygments_lexer": "ipython3",
   "version": "3.11.5"
  }
 },
 "nbformat": 4,
 "nbformat_minor": 5
}
