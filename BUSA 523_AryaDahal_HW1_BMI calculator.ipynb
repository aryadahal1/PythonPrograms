{
 "cells": [
  {
   "cell_type": "code",
   "execution_count": 1,
   "id": "72487aa9",
   "metadata": {},
   "outputs": [
    {
     "name": "stdout",
     "output_type": "stream",
     "text": [
      "Enter weight in kilograms: 54\n",
      "Enter height in inches: 69\n",
      "\n",
      "BMI: 17.6\n",
      "Weight Status: Underweight\n"
     ]
    }
   ],
   "source": [
    "def calculate_bmi(weight, height):\n",
    "    # Convert height from inches to meters\n",
    "    height_meters = height * 0.0254\n",
    "    \n",
    "    # Calculate BMI using the formula: weight (kg) / [height (m)]^2\n",
    "    bmi = weight / (height_meters ** 2)\n",
    "    \n",
    "    return bmi\n",
    "\n",
    "def determine_weight_status(bmi):\n",
    "    if bmi < 18.5:\n",
    "        return \"Underweight\"\n",
    "    elif 18.5 <= bmi <= 24.9:\n",
    "        return \"Normal weight\"\n",
    "    elif 25 <= bmi <= 29.9:\n",
    "        return \"Overweight\"\n",
    "    else:\n",
    "        return \"Obesity\"\n",
    "\n",
    "# Ask user for weight in kilograms\n",
    "weight_kg = float(input(\"Enter weight in kilograms: \"))\n",
    "\n",
    "# Ask user for height in inches\n",
    "height_inches = float(input(\"Enter height in inches: \"))\n",
    "\n",
    "# Calculate BMI\n",
    "bmi_result = calculate_bmi(weight_kg, height_inches)\n",
    "\n",
    "# Determine weight status\n",
    "weight_status = determine_weight_status(bmi_result)\n",
    "\n",
    "# Display the result\n",
    "print(f\"\\nBMI: {bmi_result:.1f}\")\n",
    "print(f\"Weight Status: {weight_status}\")\n"
   ]
  },
  {
   "cell_type": "code",
   "execution_count": 2,
   "id": "bc3deb8d",
   "metadata": {},
   "outputs": [
    {
     "name": "stdout",
     "output_type": "stream",
     "text": [
      "Enter weight in kilograms: 75\n",
      "Enter height in inches: 60\n",
      "\n",
      "BMI: 32.3\n",
      "Weight Status: Obesity\n"
     ]
    }
   ],
   "source": [
    "def calculate_bmi(weight, height):\n",
    "    # Convert height from inches to meters\n",
    "    height_meters = height * 0.0254\n",
    "    \n",
    "    # Calculate BMI using the formula: weight (kg) / [height (m)]^2\n",
    "    bmi = weight / (height_meters ** 2)\n",
    "    \n",
    "    return bmi\n",
    "\n",
    "def determine_weight_status(bmi):\n",
    "    if bmi < 18.5:\n",
    "        return \"Underweight\"\n",
    "    elif 18.5 <= bmi <= 24.9:\n",
    "        return \"Normal weight\"\n",
    "    elif 25 <= bmi <= 29.9:\n",
    "        return \"Overweight\"\n",
    "    else:\n",
    "        return \"Obesity\"\n",
    "\n",
    "# Get user input for weight in kilograms\n",
    "weight_kg = float(input(\"Enter weight in kilograms: \"))\n",
    "\n",
    "# Get user input for height in inches\n",
    "height_inches = float(input(\"Enter height in inches: \"))\n",
    "\n",
    "# Calculate BMI\n",
    "bmi_result = calculate_bmi(weight_kg, height_inches)\n",
    "\n",
    "# Determine weight status\n",
    "weight_status = determine_weight_status(bmi_result)\n",
    "\n",
    "# Display the result\n",
    "print(f\"\\nBMI: {bmi_result:.1f}\")\n",
    "print(f\"Weight Status: {weight_status}\")\n"
   ]
  },
  {
   "cell_type": "code",
   "execution_count": 3,
   "id": "5774e0f6",
   "metadata": {},
   "outputs": [
    {
     "name": "stdout",
     "output_type": "stream",
     "text": [
      "Enter weight in kilograms: 40\n",
      "Enter height in inches: 58\n",
      "\n",
      "BMI: 18.4\n",
      "Weight Status: Underweight\n"
     ]
    }
   ],
   "source": [
    "def calculate_bmi(weight, height):\n",
    "    # Convert height from inches to meters\n",
    "    height_meters = height * 0.0254\n",
    "    \n",
    "    # Calculate BMI using the formula: weight (kg) / [height (m)]^2\n",
    "    bmi = weight / (height_meters ** 2)\n",
    "    \n",
    "    return bmi\n",
    "\n",
    "def determine_weight_status(bmi):\n",
    "    if bmi < 18.5:\n",
    "        return \"Underweight\"\n",
    "    elif 18.5 <= bmi <= 24.9:\n",
    "        return \"Normal weight\"\n",
    "    elif 25 <= bmi <= 29.9:\n",
    "        return \"Overweight\"\n",
    "    else:\n",
    "        return \"Obesity\"\n",
    "\n",
    "# Get user input for weight in kilograms\n",
    "weight_kg = float(input(\"Enter weight in kilograms: \"))\n",
    "\n",
    "# Get user input for height in inches\n",
    "height_inches = float(input(\"Enter height in inches: \"))\n",
    "\n",
    "# Calculate BMI\n",
    "bmi_result = calculate_bmi(weight_kg, height_inches)\n",
    "\n",
    "# Determine weight status\n",
    "weight_status = determine_weight_status(bmi_result)\n",
    "\n",
    "# Display the result\n",
    "print(f\"\\nBMI: {bmi_result:.1f}\")\n",
    "print(f\"Weight Status: {weight_status}\")\n"
   ]
  },
  {
   "cell_type": "code",
   "execution_count": 4,
   "id": "00233f41",
   "metadata": {},
   "outputs": [
    {
     "name": "stdout",
     "output_type": "stream",
     "text": [
      "Enter weight in kilograms: 110\n",
      "Enter height in inches: 75\n",
      "\n",
      "BMI: 30.3\n",
      "Weight Status: Obesity\n"
     ]
    }
   ],
   "source": [
    "def calculate_bmi(weight, height):\n",
    "    # Convert height from inches to meters\n",
    "    height_meters = height * 0.0254\n",
    "    \n",
    "    # Calculate BMI using the formula: weight (kg) / [height (m)]^2\n",
    "    bmi = weight / (height_meters ** 2)\n",
    "    \n",
    "    return bmi\n",
    "\n",
    "def determine_weight_status(bmi):\n",
    "    if bmi < 18.5:\n",
    "        return \"Underweight\"\n",
    "    elif 18.5 <= bmi <= 24.9:\n",
    "        return \"Normal weight\"\n",
    "    elif 25 <= bmi <= 29.9:\n",
    "        return \"Overweight\"\n",
    "    else:\n",
    "        return \"Obesity\"\n",
    "\n",
    "# Get user input for weight in kilograms\n",
    "weight_kg = float(input(\"Enter weight in kilograms: \"))\n",
    "\n",
    "# Get user input for height in inches\n",
    "height_inches = float(input(\"Enter height in inches: \"))\n",
    "\n",
    "# Calculate BMI\n",
    "bmi_result = calculate_bmi(weight_kg, height_inches)\n",
    "\n",
    "# Determine weight status\n",
    "weight_status = determine_weight_status(bmi_result)\n",
    "\n",
    "# Display the result\n",
    "print(f\"\\nBMI: {bmi_result:.1f}\")\n",
    "print(f\"Weight Status: {weight_status}\")\n"
   ]
  },
  {
   "cell_type": "code",
   "execution_count": 5,
   "id": "5ddc9e3e",
   "metadata": {},
   "outputs": [
    {
     "name": "stdout",
     "output_type": "stream",
     "text": [
      "Enter weight in kilograms: 65\n",
      "Enter height in inches: 70\n",
      "\n",
      "BMI: 20.6\n",
      "Weight Status: Normal weight\n"
     ]
    }
   ],
   "source": [
    "def calculate_bmi(weight, height):\n",
    "    # Convert height from inches to meters\n",
    "    height_meters = height * 0.0254\n",
    "    \n",
    "    # Calculate BMI using the formula: weight (kg) / [height (m)]^2\n",
    "    bmi = weight / (height_meters ** 2)\n",
    "    \n",
    "    return bmi\n",
    "\n",
    "def determine_weight_status(bmi):\n",
    "    if bmi < 18.5:\n",
    "        return \"Underweight\"\n",
    "    elif 18.5 <= bmi <= 24.9:\n",
    "        return \"Normal weight\"\n",
    "    elif 25 <= bmi <= 29.9:\n",
    "        return \"Overweight\"\n",
    "    else:\n",
    "        return \"Obesity\"\n",
    "\n",
    "# Get user input for weight in kilograms\n",
    "weight_kg = float(input(\"Enter weight in kilograms: \"))\n",
    "\n",
    "# Get user input for height in inches\n",
    "height_inches = float(input(\"Enter height in inches: \"))\n",
    "\n",
    "# Calculate BMI\n",
    "bmi_result = calculate_bmi(weight_kg, height_inches)\n",
    "\n",
    "# Determine weight status\n",
    "weight_status = determine_weight_status(bmi_result)\n",
    "\n",
    "# Display the result\n",
    "print(f\"\\nBMI: {bmi_result:.1f}\")\n",
    "print(f\"Weight Status: {weight_status}\")\n"
   ]
  },
  {
   "cell_type": "code",
   "execution_count": null,
   "id": "5366cff6",
   "metadata": {},
   "outputs": [],
   "source": []
  }
 ],
 "metadata": {
  "kernelspec": {
   "display_name": "Python 3 (ipykernel)",
   "language": "python",
   "name": "python3"
  },
  "language_info": {
   "codemirror_mode": {
    "name": "ipython",
    "version": 3
   },
   "file_extension": ".py",
   "mimetype": "text/x-python",
   "name": "python",
   "nbconvert_exporter": "python",
   "pygments_lexer": "ipython3",
   "version": "3.11.5"
  }
 },
 "nbformat": 4,
 "nbformat_minor": 5
}
