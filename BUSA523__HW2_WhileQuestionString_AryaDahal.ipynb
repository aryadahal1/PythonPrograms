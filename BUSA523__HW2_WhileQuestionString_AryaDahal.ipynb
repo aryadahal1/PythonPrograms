{
 "cells": [
  {
   "cell_type": "code",
   "execution_count": 1,
   "id": "9a124d60",
   "metadata": {},
   "outputs": [
    {
     "name": "stdout",
     "output_type": "stream",
     "text": [
      "Enter your answers (one string of letters): acdbbacdbcd\n",
      "\n",
      "Results:\n",
      "Correct Answers: 4/11\n",
      "Missed Questions: [3, 4, 5, 6, 7, 9, 11]\n",
      "Percentage Score: 36.36%\n"
     ]
    }
   ],
   "source": [
    "def grade_exam(correct_answers, user_answers):\n",
    "    num_questions = len(correct_answers)\n",
    "    \n",
    "    # Check each answer and count correct asnwers\n",
    "    correct_count = 0\n",
    "    missed_questions = []\n",
    "\n",
    "    for i in range(num_questions):\n",
    "        if user_answers[i] == correct_answers[i]:\n",
    "            correct_count += 1\n",
    "        else:\n",
    "            missed_questions.append(i + 1)  # Append the question number (1-based index)\n",
    "\n",
    "    # Calculate the percentage\n",
    "    percent_score = (correct_count / num_questions) * 100\n",
    "\n",
    "    # Display results\n",
    "    print(\"\\nResults:\")\n",
    "    print(f\"Correct Answers: {correct_count}/{num_questions}\")\n",
    "    print(f\"Missed Questions: {missed_questions}\")\n",
    "    print(f\"Percentage Score: {percent_score:.2f}%\")\n",
    "\n",
    "# Define correct answers\n",
    "correct_answers = \"ACBDACBDACA\"\n",
    "\n",
    "# Ask for user's answers with a while loop\n",
    "user_answers = input(\"Enter your answers (one string of letters): \").upper()\n",
    "while len(user_answers) != len(correct_answers):\n",
    "    print(\"Error: The number of answers entered does not match the number of questions.\")\n",
    "    user_answers = input(\"Please enter your answers again: \").upper()\n",
    "\n",
    "# Grade\n",
    "grade_exam(correct_answers, user_answers)\n"
   ]
  },
  {
   "cell_type": "code",
   "execution_count": null,
   "id": "fda1c82b",
   "metadata": {},
   "outputs": [],
   "source": []
  }
 ],
 "metadata": {
  "kernelspec": {
   "display_name": "Python 3 (ipykernel)",
   "language": "python",
   "name": "python3"
  },
  "language_info": {
   "codemirror_mode": {
    "name": "ipython",
    "version": 3
   },
   "file_extension": ".py",
   "mimetype": "text/x-python",
   "name": "python",
   "nbconvert_exporter": "python",
   "pygments_lexer": "ipython3",
   "version": "3.11.5"
  }
 },
 "nbformat": 4,
 "nbformat_minor": 5
}
