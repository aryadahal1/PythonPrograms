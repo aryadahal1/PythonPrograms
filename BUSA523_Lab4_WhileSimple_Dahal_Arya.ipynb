{
 "cells": [
  {
   "cell_type": "code",
   "execution_count": 1,
   "id": "ee152304",
   "metadata": {},
   "outputs": [
    {
     "name": "stdout",
     "output_type": "stream",
     "text": [
      "Please Enter a Digit or Character: a\n",
      "You Entered a\n",
      "Please Enter a Digit or Character: b\n",
      "You Entered b\n",
      "Please Enter a Digit or Character: c\n",
      "You Entered c\n",
      "Please Enter a Digit or Character: d\n",
      "You Entered d\n",
      "Please Enter a Digit or Character: q\n",
      "You Entered q\n",
      "Thank You! The program has ended.\n"
     ]
    }
   ],
   "source": [
    "while True:\n",
    "    user_input = input(\"Please Enter a Digit or Character: \")\n",
    "\n",
    "    # Display the digit/character back on the screen\n",
    "    print(\"You Entered\", user_input)\n",
    "\n",
    "    # Check if the entered digit/character is 'q'\n",
    "    if user_input.lower() == 'q':\n",
    "        print(\"Thank You! The program has ended.\")\n",
    "        break\n"
   ]
  },
  {
   "cell_type": "code",
   "execution_count": null,
   "id": "bb2c3f13",
   "metadata": {},
   "outputs": [],
   "source": []
  }
 ],
 "metadata": {
  "kernelspec": {
   "display_name": "Python 3 (ipykernel)",
   "language": "python",
   "name": "python3"
  },
  "language_info": {
   "codemirror_mode": {
    "name": "ipython",
    "version": 3
   },
   "file_extension": ".py",
   "mimetype": "text/x-python",
   "name": "python",
   "nbconvert_exporter": "python",
   "pygments_lexer": "ipython3",
   "version": "3.11.5"
  }
 },
 "nbformat": 4,
 "nbformat_minor": 5
}
