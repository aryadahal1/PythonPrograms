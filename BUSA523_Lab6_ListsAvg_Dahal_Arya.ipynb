{
 "cells": [
  {
   "cell_type": "code",
   "execution_count": 1,
   "id": "b103e6bb",
   "metadata": {},
   "outputs": [
    {
     "name": "stdout",
     "output_type": "stream",
     "text": [
      "Average of the first three numbers: 3.0\n",
      "Average of the last two numbers: 8.5\n",
      "List after swapping: [2, 16, 4, 88, 525, 345, 1, 3]\n",
      "Average of the first three numbers after swapping: 7.333333333333333\n"
     ]
    }
   ],
   "source": [
    "# Original list\n",
    "NumList = [2, 3, 4, 88, 525, 345, 1, 16]\n",
    "\n",
    "# Find the average/mean of the first three numbers in the list and print it\n",
    "first_three_average = sum(NumList[:3]) / len(NumList[:3])\n",
    "print(\"Average of the first three numbers:\", first_three_average)\n",
    "\n",
    "# Find the average/mean of the last two numbers in the list and print it\n",
    "last_two_average = sum(NumList[-2:]) / len(NumList[-2:])\n",
    "print(\"Average of the last two numbers:\", last_two_average)\n",
    "\n",
    "# Swap the second list member with the last member of the list\n",
    "NumList[1], NumList[-1] = NumList[-1], NumList[1]\n",
    "print(\"List after swapping:\", NumList)\n",
    "\n",
    "# Find the average/mean of the first three numbers in the modified list and print it\n",
    "modified_first_three_average = sum(NumList[:3]) / len(NumList[:3])\n",
    "print(\"Average of the first three numbers after swapping:\", modified_first_three_average)\n"
   ]
  },
  {
   "cell_type": "code",
   "execution_count": null,
   "id": "53f62f2c",
   "metadata": {},
   "outputs": [],
   "source": []
  }
 ],
 "metadata": {
  "kernelspec": {
   "display_name": "Python 3 (ipykernel)",
   "language": "python",
   "name": "python3"
  },
  "language_info": {
   "codemirror_mode": {
    "name": "ipython",
    "version": 3
   },
   "file_extension": ".py",
   "mimetype": "text/x-python",
   "name": "python",
   "nbconvert_exporter": "python",
   "pygments_lexer": "ipython3",
   "version": "3.11.5"
  }
 },
 "nbformat": 4,
 "nbformat_minor": 5
}
